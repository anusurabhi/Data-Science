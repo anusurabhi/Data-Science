{
  "nbformat": 4,
  "nbformat_minor": 0,
  "metadata": {
    "colab": {
      "name": "Untitled0.ipynb",
      "provenance": [],
      "authorship_tag": "ABX9TyPWcDNNHlCRtRsYfz2jRnYB",
      "include_colab_link": true
    },
    "kernelspec": {
      "name": "python3",
      "display_name": "Python 3"
    },
    "language_info": {
      "name": "python"
    }
  },
  "cells": [
    {
      "cell_type": "markdown",
      "metadata": {
        "id": "view-in-github",
        "colab_type": "text"
      },
      "source": [
        "<a href=\"https://colab.research.google.com/github/anusurabhi/Data-Science/blob/main/cell%20classification.ipynb\" target=\"_parent\"><img src=\"https://colab.research.google.com/assets/colab-badge.svg\" alt=\"Open In Colab\"/></a>"
      ]
    },
    {
      "cell_type": "code",
      "metadata": {
        "id": "KS9oyYgQAjYZ"
      },
      "source": [
        "import os\n",
        "data_dir = \"C:\\\\Users\\\\anu\\\\Desktop\\\\cell_images\\\\\"\n",
        "os.listdir(data_dir) # This will list out all the documents or folders inside the data_dir folder\n",
        "\n",
        "#To concatenate other directories inside\n",
        "\n",
        "test_path = data_dir + \"\\\\test\\\\\"\n",
        "train_path = data_dir + \"\\\\train\\\\\"\n",
        "\n",
        "#To view an image as an array\n",
        "from matplotlib.image import imread\n",
        "\n",
        "imread(\"file path to the image file\")\n",
        "\n",
        "#To show as image\n",
        "plt.imshow(imread(\"file_path\"))\n",
        "\n"
      ],
      "execution_count": 15,
      "outputs": []
    },
    {
      "cell_type": "code",
      "metadata": {
        "id": "ywKgFrY3KoRF"
      },
      "source": [
        "# To process images\n",
        "from tensorflow.keras.preprocessing.image import ImageDataGenerator\n"
      ],
      "execution_count": null,
      "outputs": []
    }
  ]
}
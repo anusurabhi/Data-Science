{
  "nbformat": 4,
  "nbformat_minor": 0,
  "metadata": {
    "colab": {
      "name": "Untitled7.ipynb",
      "provenance": [],
      "authorship_tag": "ABX9TyOFcxrmhhjKcHxl18RqKpqo",
      "include_colab_link": true
    },
    "kernelspec": {
      "name": "python3",
      "display_name": "Python 3"
    },
    "language_info": {
      "name": "python"
    }
  },
  "cells": [
    {
      "cell_type": "markdown",
      "metadata": {
        "id": "view-in-github",
        "colab_type": "text"
      },
      "source": [
        "<a href=\"https://colab.research.google.com/github/anusurabhi/Data-Science/blob/main/fashion%20mnist.ipynb\" target=\"_parent\"><img src=\"https://colab.research.google.com/assets/colab-badge.svg\" alt=\"Open In Colab\"/></a>"
      ]
    },
    {
      "cell_type": "code",
      "metadata": {
        "id": "9Eq8pcdZ3td2"
      },
      "source": [
        "from tensorflow.keras.datasets import fashion_mnist\n",
        "import numpy as np\n",
        "import pandas as pd\n",
        "import tensorflow as tf\n",
        "import matplotlib.pyplot as plt\n",
        "import seaborn as sns\n",
        "from tensorflow.keras import Sequential\n",
        "from tensorflow.keras.layers import Dense, Conv2D, MaxPool2D, Flatten\n",
        "from tensorflow.keras.preprocessing import image\n",
        "from tensorflow.keras.preprocessing.image import ImageDataGenerator\n",
        "from tensorflow.keras.callbacks import EarlyStopping\n",
        "from sklearn.metrics import classification_report, confusion_matrix\n",
        "from sklearn.preprocessing import MinMaxScaler\n",
        "from tensorflow.keras.utils import to_categorical\n",
        " \n",
        "(x_train, y_train), (x_test, y_test) = fashion_mnist.load_data()\n",
        "x_train = x_train/255\n",
        "x_test = x_test/255\n",
        "x_train = x_train.reshape(60000, 28, 28, 1)\n",
        "x_test = x_test.reshape(10000, 28, 28, 1)\n",
        "y_cat_train = to_categorical(y_train)\n",
        "y_cat_test = to_categorical(y_test)\n",
        " \n",
        "model = Sequential()\n",
        "model.add(Conv2D(filters=32, kernel_size=(4,4), input_shape=(28,28,1), activation='relu'))\n",
        "model.add(MaxPool2D(pool_size=(2,2)))\n",
        "model.add(Flatten())\n",
        "model.add(Dense(128, activation='relu'))\n",
        "model.add(Dense(10, activation='softmax'))\n",
        " \n",
        "model.compile(loss='categorical_crossentropy', optimizer='adam', metrics=['accuracy'])\n",
        "early_stop = EarlyStopping(monitor='val_loss', patience=3)"
      ],
      "execution_count": 10,
      "outputs": []
    },
    {
      "cell_type": "code",
      "metadata": {
        "colab": {
          "base_uri": "https://localhost:8080/"
        },
        "id": "S_h6nm533__F",
        "outputId": "8ec0ae83-3051-4b63-c542-6c65185f7922"
      },
      "source": [
        "y_cat_train[0]"
      ],
      "execution_count": 12,
      "outputs": [
        {
          "output_type": "execute_result",
          "data": {
            "text/plain": [
              "array([0., 0., 0., 0., 0., 0., 0., 0., 0., 1.], dtype=float32)"
            ]
          },
          "metadata": {
            "tags": []
          },
          "execution_count": 12
        }
      ]
    },
    {
      "cell_type": "code",
      "metadata": {
        "colab": {
          "base_uri": "https://localhost:8080/"
        },
        "id": "hJ3i7liG32jX",
        "outputId": "2cb8fc33-eef7-498e-b795-edeefa2c1e6b"
      },
      "source": [
        "model.fit(x_train, y_cat_train, epochs=20, validation_data=(x_test, y_cat_test), callbacks=[early_stop])"
      ],
      "execution_count": 13,
      "outputs": [
        {
          "output_type": "stream",
          "text": [
            "Epoch 1/20\n",
            "1875/1875 [==============================] - 19s 10ms/step - loss: 0.4035 - accuracy: 0.8550 - val_loss: 0.3259 - val_accuracy: 0.8827\n",
            "Epoch 2/20\n",
            "1875/1875 [==============================] - 18s 10ms/step - loss: 0.2777 - accuracy: 0.8996 - val_loss: 0.2877 - val_accuracy: 0.8929\n",
            "Epoch 3/20\n",
            "1875/1875 [==============================] - 18s 10ms/step - loss: 0.2350 - accuracy: 0.9131 - val_loss: 0.2942 - val_accuracy: 0.8919\n",
            "Epoch 4/20\n",
            "1875/1875 [==============================] - 18s 10ms/step - loss: 0.2042 - accuracy: 0.9242 - val_loss: 0.2591 - val_accuracy: 0.9062\n",
            "Epoch 5/20\n",
            "1875/1875 [==============================] - 18s 10ms/step - loss: 0.1761 - accuracy: 0.9338 - val_loss: 0.2463 - val_accuracy: 0.9105\n",
            "Epoch 6/20\n",
            "1875/1875 [==============================] - 18s 10ms/step - loss: 0.1511 - accuracy: 0.9438 - val_loss: 0.2570 - val_accuracy: 0.9135\n",
            "Epoch 7/20\n",
            "1875/1875 [==============================] - 18s 10ms/step - loss: 0.1317 - accuracy: 0.9506 - val_loss: 0.2816 - val_accuracy: 0.9103\n",
            "Epoch 8/20\n",
            "1875/1875 [==============================] - 19s 10ms/step - loss: 0.1142 - accuracy: 0.9578 - val_loss: 0.2921 - val_accuracy: 0.9117\n"
          ],
          "name": "stdout"
        },
        {
          "output_type": "execute_result",
          "data": {
            "text/plain": [
              "<tensorflow.python.keras.callbacks.History at 0x16e96dbf610>"
            ]
          },
          "metadata": {
            "tags": []
          },
          "execution_count": 13
        }
      ]
    },
    {
      "cell_type": "code",
      "metadata": {
        "id": "i7ETMdxf4FVU"
      },
      "source": [
        "metrics = pd.DataFrame(model.history.history)"
      ],
      "execution_count": 14,
      "outputs": []
    },
    {
      "cell_type": "code",
      "metadata": {
        "colab": {
          "base_uri": "https://localhost:8080/"
        },
        "id": "jJhTSbvyAq9v",
        "outputId": "4dcc07ff-96e2-48bd-e86c-7d7173357d76"
      },
      "source": [
        "metrics.describe"
      ],
      "execution_count": 15,
      "outputs": [
        {
          "output_type": "execute_result",
          "data": {
            "text/plain": [
              "<bound method NDFrame.describe of        loss  accuracy  val_loss  val_accuracy\n",
              "0  0.403526  0.855033  0.325894        0.8827\n",
              "1  0.277687  0.899617  0.287749        0.8929\n",
              "2  0.235028  0.913117  0.294246        0.8919\n",
              "3  0.204177  0.924183  0.259134        0.9062\n",
              "4  0.176125  0.933833  0.246350        0.9105\n",
              "5  0.151084  0.943850  0.257037        0.9135\n",
              "6  0.131673  0.950583  0.281566        0.9103\n",
              "7  0.114155  0.957800  0.292076        0.9117>"
            ]
          },
          "metadata": {
            "tags": []
          },
          "execution_count": 15
        }
      ]
    },
    {
      "cell_type": "code",
      "metadata": {
        "colab": {
          "base_uri": "https://localhost:8080/",
          "height": 282
        },
        "id": "tky2Jn1BAz-m",
        "outputId": "c9c331b4-b709-4fdc-9e95-2d47c81d3926"
      },
      "source": [
        "metrics[['accuracy', 'val_accuracy']].plot()"
      ],
      "execution_count": 16,
      "outputs": [
        {
          "output_type": "execute_result",
          "data": {
            "text/plain": [
              "<AxesSubplot:>"
            ]
          },
          "metadata": {
            "tags": []
          },
          "execution_count": 16
        },
        {
          "output_type": "display_data",
          "data": {
            "text/plain": [
              "<Figure size 432x288 with 1 Axes>"
            ],
            "image/png": "[encoded data removed]"
          },
          "metadata": {
            "tags": [],
            "needs_background": "light"
          }
        }
      ]
    },
    {
      "cell_type": "code",
      "metadata": {
        "colab": {
          "base_uri": "https://localhost:8080/",
          "height": 282
        },
        "id": "LWEH-UsrBCJ-",
        "outputId": "9989a909-748b-447b-ab2a-6cf1029f9fe6"
      },
      "source": [
        "metrics[['loss', 'val_loss']].plot()"
      ],
      "execution_count": 17,
      "outputs": [
        {
          "output_type": "execute_result",
          "data": {
            "text/plain": [
              "<AxesSubplot:>"
            ]
          },
          "metadata": {
            "tags": []
          },
          "execution_count": 17
        },
        {
          "output_type": "display_data",
          "data": {
            "text/plain": [
              "<Figure size 432x288 with 1 Axes>"
            ],
            "image/png": "[encoded data removed]"
          },
          "metadata": {
            "tags": [],
            "needs_background": "light"
          }
        }
      ]
    },
    {
      "cell_type": "code",
      "metadata": {
        "colab": {
          "base_uri": "https://localhost:8080/"
        },
        "id": "0c2hDsrPBLnm",
        "outputId": "dc2b82af-a914-429f-d4d0-d1bf8aeacb2b"
      },
      "source": [
        "model.evaluate(x_test, y_cat_test)"
      ],
      "execution_count": 21,
      "outputs": [
        {
          "output_type": "stream",
          "text": [
            "313/313 [==============================] - 1s 3ms/step - loss: 0.2921 - accuracy: 0.9117\n"
          ],
          "name": "stdout"
        },
        {
          "output_type": "execute_result",
          "data": {
            "text/plain": [
              "[0.2920760214328766, 0.9117000102996826]"
            ]
          },
          "metadata": {
            "tags": []
          },
          "execution_count": 21
        }
      ]
    },
    {
      "cell_type": "code",
      "metadata": {
        "colab": {
          "base_uri": "https://localhost:8080/"
        },
        "id": "_iYb9Q0mBVz1",
        "outputId": "d1f7d44e-3fdd-4c53-94b5-529c1c359523"
      },
      "source": [
        "model.metrics_names"
      ],
      "execution_count": 22,
      "outputs": [
        {
          "output_type": "execute_result",
          "data": {
            "text/plain": [
              "['loss', 'accuracy']"
            ]
          },
          "metadata": {
            "tags": []
          },
          "execution_count": 22
        }
      ]
    },
    {
      "cell_type": "code",
      "metadata": {
        "id": "qGOmhsABBbLV"
      },
      "source": [
        "test_image = x_test[256]"
      ],
      "execution_count": 82,
      "outputs": []
    },
    {
      "cell_type": "code",
      "metadata": {
        "id": "DL8UBeqfCAm9"
      },
      "source": [
        "test_image = test_image.reshape((1, 28, 28, 1))"
      ],
      "execution_count": 83,
      "outputs": []
    },
    {
      "cell_type": "code",
      "metadata": {
        "colab": {
          "base_uri": "https://localhost:8080/"
        },
        "id": "m3KQz83qCGEs",
        "outputId": "77cfb597-f88c-4b9e-9be4-caf12131d06a"
      },
      "source": [
        "test_image.shape"
      ],
      "execution_count": 84,
      "outputs": [
        {
          "output_type": "execute_result",
          "data": {
            "text/plain": [
              "(1, 28, 28, 1)"
            ]
          },
          "metadata": {
            "tags": []
          },
          "execution_count": 84
        }
      ]
    },
    {
      "cell_type": "code",
      "metadata": {
        "id": "P3pIdD_QCa8K"
      },
      "source": [
        "prediction = model.predict(test_image)"
      ],
      "execution_count": 85,
      "outputs": []
    },
    {
      "cell_type": "code",
      "metadata": {
        "colab": {
          "base_uri": "https://localhost:8080/"
        },
        "id": "WD3YLOpTCwp3",
        "outputId": "adb56763-e59a-4505-c558-4a324ebd0ccc"
      },
      "source": [
        "prediction"
      ],
      "execution_count": 86,
      "outputs": [
        {
          "output_type": "execute_result",
          "data": {
            "text/plain": [
              "array([[2.7807837e-13, 1.8183988e-10, 2.6609650e-12, 7.9955351e-13,\n",
              "        1.3421440e-10, 5.7771726e-14, 4.5818020e-12, 1.1199303e-14,\n",
              "        1.0000000e+00, 3.8144809e-18]], dtype=float32)"
            ]
          },
          "metadata": {
            "tags": []
          },
          "execution_count": 86
        }
      ]
    },
    {
      "cell_type": "code",
      "metadata": {
        "id": "fGqs4r9XDmWr"
      },
      "source": [
        "output = prediction.argmax() # this is finding the index of max value in an array"
      ],
      "execution_count": 87,
      "outputs": []
    },
    {
      "cell_type": "code",
      "metadata": {
        "colab": {
          "base_uri": "https://localhost:8080/",
          "height": 299
        },
        "id": "ZnZGdwxhI5Mm",
        "outputId": "2197df24-6e46-43bb-854e-f66f950545e5"
      },
      "source": [
        "def print_Show_result(item_name, item):\n",
        "  print(f\"Your model prediction is: {item_name}\")\n",
        "  print(\"Actual item is the following\")\n",
        "  plt.imshow(item.reshape(28,28,1))\n",
        "\n",
        "\n",
        "if output == 0:\n",
        "  print_Show_result(\"T Shirt\", test_image)\n",
        "elif output == 1:\n",
        "  print_Show_result(\"Trouser\", test_image)\n",
        "elif output == 2:\n",
        "  print_Show_result(\"Pullover\", test_image)\n",
        "elif output == 3:\n",
        "  print_Show_result(\"Dress\", test_image)\n",
        "elif output == 4:\n",
        "  print_Show_result(\"Coat\", test_image)\n",
        "elif output == 5:\n",
        "  print_Show_result(\"Sandal\", test_image)\n",
        "elif output == 6:\n",
        "  print_Show_result(\"Shirt\", test_image)\n",
        "elif output == 7:\n",
        "  print_Show_result(\"Sneaker\", test_image)\n",
        "elif output == 8:\n",
        "  print_Show_result(\"Bag\", test_image)\n",
        "elif output == 9:\n",
        "  print_Show_result(\"Ankle boot\", test_image)"
      ],
      "execution_count": 88,
      "outputs": [
        {
          "output_type": "stream",
          "text": [
            "Your model prediction is: Bag\n",
            "Actual item is the following\n"
          ],
          "name": "stdout"
        },
        {
          "output_type": "display_data",
          "data": {
            "text/plain": [
              "<Figure size 432x288 with 1 Axes>"
            ],
            "image/png": "[encoded data removed]"
          },
          "metadata": {
            "tags": [],
            "needs_background": "light"
          }
        }
      ]
    }
  ]
}